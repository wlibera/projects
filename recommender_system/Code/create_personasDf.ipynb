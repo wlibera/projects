{
 "cells": [
  {
   "cell_type": "code",
   "execution_count": 1,
   "metadata": {},
   "outputs": [
    {
     "name": "stderr",
     "output_type": "stream",
     "text": [
      "C:\\Users\\maike\\AppData\\Local\\Temp\\ipykernel_24032\\979352546.py:8: FutureWarning: The default value of numeric_only in DataFrameGroupBy.mean is deprecated. In a future version, numeric_only will default to False. Either specify numeric_only or select only columns which should be valid for the function.\n",
      "  grouped = data.groupby(data['fit.cluster']).mean()\n"
     ]
    }
   ],
   "source": [
    "import pandas as pd\n",
    "import os\n",
    "# os.getcwd()\n",
    "\n",
    "# open survey results\n",
    "data = pd.read_csv('pickleFiles/surveyResults_clustered.csv')\n",
    "\n",
    "grouped = data.groupby(data['fit.cluster']).mean()"
   ]
  },
  {
   "cell_type": "code",
   "execution_count": 4,
   "metadata": {},
   "outputs": [],
   "source": [
    "#takes the results from the survey and formats it to use in the other functions\n",
    "interest_cols = list(grouped.columns[grouped.columns.str.startswith('interest_')])\n",
    "distressed_cols = list(grouped.columns[grouped.columns.str.startswith('distressed_')])\n",
    "guard_cols = list(grouped.columns[grouped.columns.str.startswith('guard_')])\n",
    "guard_cols = ['guard_suicide', 'guard_accidents', 'guard_selfHarm', 'guard_depression', 'guard_racism', 'guard_eatingDisorders']\n",
    "\n",
    "personas_cols = interest_cols + distressed_cols + guard_cols\n",
    "\n",
    "personas = grouped[personas_cols]\n",
    "personas.index.name = 'persona'"
   ]
  },
  {
   "cell_type": "code",
   "execution_count": 5,
   "metadata": {},
   "outputs": [],
   "source": [
    "personas.to_csv('data/personas.csv')"
   ]
  }
 ],
 "metadata": {
  "kernelspec": {
   "display_name": "Python 3 (ipykernel)",
   "language": "python",
   "name": "python3"
  },
  "language_info": {
   "codemirror_mode": {
    "name": "ipython",
    "version": 3
   },
   "file_extension": ".py",
   "mimetype": "text/x-python",
   "name": "python",
   "nbconvert_exporter": "python",
   "pygments_lexer": "ipython3",
   "version": "3.10.9"
  }
 },
 "nbformat": 4,
 "nbformat_minor": 2
}
