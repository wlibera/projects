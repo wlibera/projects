{
 "cells": [
  {
   "cell_type": "code",
   "execution_count": 35,
   "metadata": {},
   "outputs": [
    {
     "data": {
      "text/plain": [
       "'d:\\\\OneDrive - Universiteit Utrecht\\\\PER3_PersonalizationForPublicMedia\\\\assignment2\\\\General\\\\Code'"
      ]
     },
     "execution_count": 35,
     "metadata": {},
     "output_type": "execute_result"
    }
   ],
   "source": [
    "import pandas as pd\n",
    "# import spacy\n",
    "import pickle\n",
    "import os\n",
    "import random\n",
    "import numpy as np\n",
    "from numpy.linalg import norm\n",
    "from datetime import datetime\n",
    "\n",
    "os.getcwd()"
   ]
  },
  {
   "cell_type": "code",
   "execution_count": 36,
   "metadata": {},
   "outputs": [],
   "source": [
    "with open(\"data/articles_cleaned.pkl\", \"rb\") as file:\n",
    "    articles = pickle.load(file)\n",
    "\n",
    "articles_topics = pd.read_csv('data/articles_topics.csv')\n",
    "articles_topics = articles_topics.loc[:, articles_topics.columns != 'Unnamed: 0']\n",
    "\n",
    "personas = pd.read_csv('data/personas.csv')"
   ]
  },
  {
   "cell_type": "code",
   "execution_count": 37,
   "metadata": {},
   "outputs": [],
   "source": [
    "def calculate_articlesInterest(persona):\n",
    "    #Calculate interest score for every article\n",
    "    #needs topic df and persona vector\n",
    "    #Outputs series objects filled with scores for every article\n",
    "    \n",
    "    #Transform into arrays\n",
    "    articles_matrix = articles_topics.to_numpy()\n",
    "\n",
    "    #Only use cols that correspond to interests\n",
    "    interest_cols = persona.index[persona.index.str.startswith('interest_')]\n",
    "    user_vector = np.array(persona[interest_cols])\n",
    "    \n",
    "    #Calculate new scores using matrix multiplication\n",
    "    new_scores_matrix = np.dot(articles_matrix, user_vector)\n",
    "    new_scores_series = pd.Series(new_scores_matrix)\n",
    "\n",
    "    return new_scores_series"
   ]
  },
  {
   "cell_type": "code",
   "execution_count": 38,
   "metadata": {},
   "outputs": [],
   "source": [
    "def calculate_articlesDistressed(persona):\n",
    "    #Calculate distressed score for every article\n",
    "    #needs topic df and persona vector\n",
    "    #Outputs series objects filled with scores for every article\n",
    "    \n",
    "    #Transform into arrays\n",
    "    articles_matrix = articles_topics.to_numpy()\n",
    "\n",
    "    #Only use cols that correspond to distressed\n",
    "    distressed_cols = persona.index[persona.index.str.startswith('distressed_')]\n",
    "    user_vector = np.array(persona[distressed_cols])\n",
    "    \n",
    "    #Calculate new scores using matrix multiplication\n",
    "    new_scores_matrix = np.dot(articles_matrix, user_vector)\n",
    "    new_scores_series = pd.Series(new_scores_matrix)\n",
    "\n",
    "    return 1-new_scores_series\n"
   ]
  },
  {
   "cell_type": "code",
   "execution_count": 39,
   "metadata": {},
   "outputs": [
    {
     "name": "stderr",
     "output_type": "stream",
     "text": [
      "C:\\Users\\maike\\AppData\\Local\\Temp\\ipykernel_9256\\2982752710.py:3: FutureWarning: The default dtype for empty Series will be 'object' instead of 'float64' in a future version. Specify a dtype explicitly to silence this warning.\n",
      "  persona = pd.Series(index = allCols)\n",
      "C:\\Users\\maike\\AppData\\Local\\Temp\\ipykernel_9256\\2982752710.py:3: FutureWarning: The default dtype for empty Series will be 'object' instead of 'float64' in a future version. Specify a dtype explicitly to silence this warning.\n",
      "  persona = pd.Series(index = allCols)\n",
      "C:\\Users\\maike\\AppData\\Local\\Temp\\ipykernel_9256\\2982752710.py:3: FutureWarning: The default dtype for empty Series will be 'object' instead of 'float64' in a future version. Specify a dtype explicitly to silence this warning.\n",
      "  persona = pd.Series(index = allCols)\n",
      "C:\\Users\\maike\\AppData\\Local\\Temp\\ipykernel_9256\\2982752710.py:3: FutureWarning: The default dtype for empty Series will be 'object' instead of 'float64' in a future version. Specify a dtype explicitly to silence this warning.\n",
      "  persona = pd.Series(index = allCols)\n",
      "C:\\Users\\maike\\AppData\\Local\\Temp\\ipykernel_9256\\2982752710.py:3: FutureWarning: The default dtype for empty Series will be 'object' instead of 'float64' in a future version. Specify a dtype explicitly to silence this warning.\n",
      "  persona = pd.Series(index = allCols)\n"
     ]
    }
   ],
   "source": [
    "def newPersona(persona_idx, weights = [0.8, 0.2]):\n",
    "    allCols = ['interest_EUPolitics', 'interest_crimes', 'interest_israelPalestine', 'interest_immigration', 'interest_sports', 'interest_war', 'interest_climateChange', 'interest_showArts', 'interest_covid', 'interest_britishBrexit', 'interest_instAbuse', 'interest_spaceTravel', 'interest_protests', 'interest_terrorism', 'interest_USPolitics', 'interest_naturalDisasters', 'interest_elections', 'interest_economy', 'distressed_EUPolitics', 'distressed_crimes', 'distressed_israelPalestine', 'distressed_immigration', 'distressed_sports', 'distressed_war', 'distressed_climateChange', 'distressed_showArts', 'distressed_covid', 'distressed_britishBrexit', 'distressed_instAbuse', 'distressed_spaceTravel', 'distressed_protest', 'distressed_terrorism', 'distressed_USPolitics', 'distressed_naturalDisasters', 'distressed_elections', 'distressed_economy', 'guard_suicide', 'guard_accidents', 'guard_selfHarm', 'guard_depression', 'guard_racism', 'guard_eatingDisorders']\n",
    "    persona = pd.Series(index = allCols)\n",
    "\n",
    "    interest_cols = persona.index[persona.index.str.startswith('interest_')]\n",
    "    distressed_cols = persona.index[persona.index.str.startswith('distressed_')]\n",
    "    guard_cols = persona.index[persona.index.str.startswith('guard_')]\n",
    "\n",
    "    # initialise data from survey means\n",
    "    persona[interest_cols] = personas.iloc[persona_idx][interest_cols]\n",
    "    persona[distressed_cols] = personas.iloc[persona_idx][distressed_cols]/100\n",
    "    persona[guard_cols] = personas.iloc[persona_idx][guard_cols]\n",
    "\n",
    "    # create article scores\n",
    "    article_scores = pd.DataFrame(0, index = articles.index, columns = ['interest', 'distress', 'total'])\n",
    "\n",
    "    article_scores['interest'] = calculate_articlesInterest(persona)\n",
    "    article_scores['distress'] = calculate_articlesDistressed(persona)\n",
    "\n",
    "    scores_weighted = weights * article_scores.iloc[:,:len(weights)]\n",
    "    article_scores['total'] = scores_weighted.apply(lambda row : row.sum(), axis=1)\n",
    "\n",
    "    return persona, article_scores\n",
    "\n",
    "persona0_series, article_scores_persona0 = newPersona(0)\n",
    "persona1_series, article_scores_persona1 = newPersona(1)\n",
    "persona2_series, article_scores_persona2 = newPersona(2)\n",
    "persona3_series, article_scores_persona3 = newPersona(3)\n",
    "persona4_series, article_scores_persona4 = newPersona(4)\n",
    "# print(persona)\n",
    "# article_scores"
   ]
  },
  {
   "cell_type": "code",
   "execution_count": 40,
   "metadata": {},
   "outputs": [],
   "source": [
    "article_scores_personas = pd.DataFrame(index = articles.index)\n",
    "article_scores_personas['persona0'] = article_scores_persona0['total']\n",
    "article_scores_personas['persona1'] = article_scores_persona1['total']\n",
    "article_scores_personas['persona2'] = article_scores_persona2['total']\n",
    "article_scores_personas['persona3'] = article_scores_persona3['total']\n",
    "article_scores_personas['persona4'] = article_scores_persona4['total']"
   ]
  },
  {
   "cell_type": "code",
   "execution_count": 41,
   "metadata": {},
   "outputs": [],
   "source": [
    "article_scores_personas.to_csv('data/article_scores_personas.csv')"
   ]
  }
 ],
 "metadata": {
  "kernelspec": {
   "display_name": "Python 3 (ipykernel)",
   "language": "python",
   "name": "python3"
  },
  "language_info": {
   "codemirror_mode": {
    "name": "ipython",
    "version": 3
   },
   "file_extension": ".py",
   "mimetype": "text/x-python",
   "name": "python",
   "nbconvert_exporter": "python",
   "pygments_lexer": "ipython3",
   "version": "3.10.9"
  }
 },
 "nbformat": 4,
 "nbformat_minor": 2
}
